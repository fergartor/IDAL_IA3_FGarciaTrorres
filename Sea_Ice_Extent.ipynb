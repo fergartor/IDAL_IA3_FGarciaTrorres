{
  "nbformat": 4,
  "nbformat_minor": 0,
  "metadata": {
    "kernelspec": {
      "display_name": "Python 3 (ipykernel)",
      "language": "python",
      "name": "python3"
    },
    "language_info": {
      "codemirror_mode": {
        "name": "ipython",
        "version": 3
      },
      "file_extension": ".py",
      "mimetype": "text/x-python",
      "name": "python",
      "nbconvert_exporter": "python",
      "pygments_lexer": "ipython3",
      "version": "3.8.12"
    },
    "colab": {
      "name": "Sea Ice Extent.ipynb",
      "provenance": [],
      "include_colab_link": true
    }
  },
  "cells": [
    {
      "cell_type": "markdown",
      "metadata": {
        "id": "view-in-github",
        "colab_type": "text"
      },
      "source": [
        "<a href=\"https://colab.research.google.com/github/fergartor/IDAL_IA3_FGarciaTrorres/blob/main/Sea_Ice_Extent.ipynb\" target=\"_parent\"><img src=\"https://colab.research.google.com/assets/colab-badge.svg\" alt=\"Open In Colab\"/></a>"
      ]
    },
    {
      "cell_type": "markdown",
      "metadata": {
        "id": "rfRUwvwlfccp"
      },
      "source": [
        "\n",
        "### Climate Change and Sea Ice Extent\n",
        "\n",
        "We want to answer the question: Has there been a decrease in the amount of ice in the last years?\n",
        "\n",
        "For that we will use the sea ice extent measurements (in millions of square km) from the [National Snow & Ice Data Center](https://nsidc.org).\n",
        "\n",
        "We perform the following processing steps:\n",
        "1. Read and clean the data.\n",
        "2. Normalize the Sea Ice Extent (SIE) data and visualize its temporal trend.\n",
        "3. Compute the SIE temporal trend as a simple linear regression (OLS) and quantitatively evaluate it.\n",
        "4. Estimate the sea ice extent for 2025.\n"
      ]
    },
    {
      "cell_type": "markdown",
      "metadata": {
        "id": "C77a9T-Zfcct"
      },
      "source": [
        "### 1. Read and clean the data.\n",
        "Load the monthly sea ice extent (SIE) monthly data provided in the file 'SeaIce.txt'. Note variables ``extent`` (SIE) and ``area`` should be greater or equal than zero. Detect possible outliers and clean the data.  "
      ]
    },
    {
      "cell_type": "code",
      "metadata": {
        "id": "WQN0wfc-fcct",
        "outputId": "b534e1fd-35e4-497d-81aa-a4c62fedc379"
      },
      "source": [
        "# Importamos el archivo txt como dataframe\n",
        "import numpy as np\n",
        "import matplotlib.pyplot as plt\n",
        "import pandas as pd \n",
        "\n",
        "df = pd.read_fwf('SeaIce.txt')\n",
        "df\n"
      ],
      "execution_count": null,
      "outputs": [
        {
          "data": {
            "text/html": [
              "<div>\n",
              "<style scoped>\n",
              "    .dataframe tbody tr th:only-of-type {\n",
              "        vertical-align: middle;\n",
              "    }\n",
              "\n",
              "    .dataframe tbody tr th {\n",
              "        vertical-align: top;\n",
              "    }\n",
              "\n",
              "    .dataframe thead th {\n",
              "        text-align: right;\n",
              "    }\n",
              "</style>\n",
              "<table border=\"1\" class=\"dataframe\">\n",
              "  <thead>\n",
              "    <tr style=\"text-align: right;\">\n",
              "      <th></th>\n",
              "      <th>year</th>\n",
              "      <th>mo</th>\n",
              "      <th>data_type</th>\n",
              "      <th>region</th>\n",
              "      <th>extent</th>\n",
              "      <th>area</th>\n",
              "    </tr>\n",
              "  </thead>\n",
              "  <tbody>\n",
              "    <tr>\n",
              "      <th>0</th>\n",
              "      <td>1979</td>\n",
              "      <td>1</td>\n",
              "      <td>Goddard</td>\n",
              "      <td>N</td>\n",
              "      <td>15.54</td>\n",
              "      <td>12.33</td>\n",
              "    </tr>\n",
              "    <tr>\n",
              "      <th>1</th>\n",
              "      <td>1980</td>\n",
              "      <td>1</td>\n",
              "      <td>Goddard</td>\n",
              "      <td>N</td>\n",
              "      <td>14.96</td>\n",
              "      <td>11.85</td>\n",
              "    </tr>\n",
              "    <tr>\n",
              "      <th>2</th>\n",
              "      <td>1981</td>\n",
              "      <td>1</td>\n",
              "      <td>Goddard</td>\n",
              "      <td>N</td>\n",
              "      <td>15.03</td>\n",
              "      <td>11.82</td>\n",
              "    </tr>\n",
              "    <tr>\n",
              "      <th>3</th>\n",
              "      <td>1982</td>\n",
              "      <td>1</td>\n",
              "      <td>Goddard</td>\n",
              "      <td>N</td>\n",
              "      <td>15.26</td>\n",
              "      <td>12.11</td>\n",
              "    </tr>\n",
              "    <tr>\n",
              "      <th>4</th>\n",
              "      <td>1983</td>\n",
              "      <td>1</td>\n",
              "      <td>Goddard</td>\n",
              "      <td>N</td>\n",
              "      <td>15.10</td>\n",
              "      <td>11.92</td>\n",
              "    </tr>\n",
              "    <tr>\n",
              "      <th>...</th>\n",
              "      <td>...</td>\n",
              "      <td>...</td>\n",
              "      <td>...</td>\n",
              "      <td>...</td>\n",
              "      <td>...</td>\n",
              "      <td>...</td>\n",
              "    </tr>\n",
              "    <tr>\n",
              "      <th>419</th>\n",
              "      <td>2009</td>\n",
              "      <td>12</td>\n",
              "      <td>Goddard</td>\n",
              "      <td>N</td>\n",
              "      <td>12.51</td>\n",
              "      <td>10.25</td>\n",
              "    </tr>\n",
              "    <tr>\n",
              "      <th>420</th>\n",
              "      <td>2010</td>\n",
              "      <td>12</td>\n",
              "      <td>Goddard</td>\n",
              "      <td>N</td>\n",
              "      <td>12.02</td>\n",
              "      <td>10.08</td>\n",
              "    </tr>\n",
              "    <tr>\n",
              "      <th>421</th>\n",
              "      <td>2011</td>\n",
              "      <td>12</td>\n",
              "      <td>Goddard</td>\n",
              "      <td>N</td>\n",
              "      <td>12.40</td>\n",
              "      <td>10.28</td>\n",
              "    </tr>\n",
              "    <tr>\n",
              "      <th>422</th>\n",
              "      <td>2012</td>\n",
              "      <td>12</td>\n",
              "      <td>Goddard</td>\n",
              "      <td>N</td>\n",
              "      <td>12.20</td>\n",
              "      <td>10.11</td>\n",
              "    </tr>\n",
              "    <tr>\n",
              "      <th>423</th>\n",
              "      <td>2013</td>\n",
              "      <td>12</td>\n",
              "      <td>NRTSI-G</td>\n",
              "      <td>N</td>\n",
              "      <td>12.38</td>\n",
              "      <td>10.48</td>\n",
              "    </tr>\n",
              "  </tbody>\n",
              "</table>\n",
              "<p>424 rows × 6 columns</p>\n",
              "</div>"
            ],
            "text/plain": [
              "     year  mo data_type region  extent   area\n",
              "0    1979   1   Goddard      N   15.54  12.33\n",
              "1    1980   1   Goddard      N   14.96  11.85\n",
              "2    1981   1   Goddard      N   15.03  11.82\n",
              "3    1982   1   Goddard      N   15.26  12.11\n",
              "4    1983   1   Goddard      N   15.10  11.92\n",
              "..    ...  ..       ...    ...     ...    ...\n",
              "419  2009  12   Goddard      N   12.51  10.25\n",
              "420  2010  12   Goddard      N   12.02  10.08\n",
              "421  2011  12   Goddard      N   12.40  10.28\n",
              "422  2012  12   Goddard      N   12.20  10.11\n",
              "423  2013  12   NRTSI-G      N   12.38  10.48\n",
              "\n",
              "[424 rows x 6 columns]"
            ]
          },
          "execution_count": 24,
          "metadata": {},
          "output_type": "execute_result"
        }
      ]
    },
    {
      "cell_type": "markdown",
      "metadata": {
        "id": "OJ5bYwVxfccw"
      },
      "source": [
        "We show the 'area' data:"
      ]
    },
    {
      "cell_type": "code",
      "metadata": {
        "id": "F3vPUpSRfccw",
        "outputId": "438ab61d-8741-4718-abbb-a90ce61d20b6"
      },
      "source": [
        "areas = df['area']\n",
        "areas"
      ],
      "execution_count": null,
      "outputs": [
        {
          "data": {
            "text/plain": [
              "0      12.33\n",
              "1      11.85\n",
              "2      11.82\n",
              "3      12.11\n",
              "4      11.92\n",
              "       ...  \n",
              "419    10.25\n",
              "420    10.08\n",
              "421    10.28\n",
              "422    10.11\n",
              "423    10.48\n",
              "Name: area, Length: 424, dtype: float64"
            ]
          },
          "execution_count": 25,
          "metadata": {},
          "output_type": "execute_result"
        }
      ]
    },
    {
      "cell_type": "markdown",
      "metadata": {
        "id": "l9z0LAA1fccx"
      },
      "source": [
        "'Area' values should be greater or equal to zero, so we can see two outliers if we represent that variable:\n"
      ]
    },
    {
      "cell_type": "code",
      "metadata": {
        "id": "nhWQzovnfccx",
        "outputId": "9a79950f-2f1f-4b64-c937-ed130e602aee"
      },
      "source": [
        "plt.plot(range(0,424), areas, 'b+')\n",
        "plt.show()"
      ],
      "execution_count": null,
      "outputs": [
        {
          "data": {
            "image/png": "[encoded data removed]",
            "text/plain": [
              "<Figure size 432x288 with 1 Axes>"
            ]
          },
          "metadata": {},
          "output_type": "display_data"
        }
      ]
    },
    {
      "cell_type": "code",
      "metadata": {
        "id": "xyfut3F9fccy",
        "outputId": "6ce92c06-72cb-4420-fb0e-b86f784bac4c"
      },
      "source": [
        "# Visualizamos los datos con 'area' menor o igual a cero\n",
        "df[df['area']<=0]"
      ],
      "execution_count": null,
      "outputs": [
        {
          "data": {
            "text/html": [
              "<div>\n",
              "<style scoped>\n",
              "    .dataframe tbody tr th:only-of-type {\n",
              "        vertical-align: middle;\n",
              "    }\n",
              "\n",
              "    .dataframe tbody tr th {\n",
              "        vertical-align: top;\n",
              "    }\n",
              "\n",
              "    .dataframe thead th {\n",
              "        text-align: right;\n",
              "    }\n",
              "</style>\n",
              "<table border=\"1\" class=\"dataframe\">\n",
              "  <thead>\n",
              "    <tr style=\"text-align: right;\">\n",
              "      <th></th>\n",
              "      <th>year</th>\n",
              "      <th>mo</th>\n",
              "      <th>data_type</th>\n",
              "      <th>region</th>\n",
              "      <th>extent</th>\n",
              "      <th>area</th>\n",
              "    </tr>\n",
              "  </thead>\n",
              "  <tbody>\n",
              "    <tr>\n",
              "      <th>9</th>\n",
              "      <td>1988</td>\n",
              "      <td>1</td>\n",
              "      <td>-9999</td>\n",
              "      <td>N</td>\n",
              "      <td>-9999.0</td>\n",
              "      <td>-9999.0</td>\n",
              "    </tr>\n",
              "    <tr>\n",
              "      <th>397</th>\n",
              "      <td>1987</td>\n",
              "      <td>12</td>\n",
              "      <td>-9999</td>\n",
              "      <td>N</td>\n",
              "      <td>-9999.0</td>\n",
              "      <td>-9999.0</td>\n",
              "    </tr>\n",
              "  </tbody>\n",
              "</table>\n",
              "</div>"
            ],
            "text/plain": [
              "     year  mo data_type region  extent    area\n",
              "9    1988   1     -9999      N -9999.0 -9999.0\n",
              "397  1987  12     -9999      N -9999.0 -9999.0"
            ]
          },
          "execution_count": 27,
          "metadata": {},
          "output_type": "execute_result"
        }
      ]
    },
    {
      "cell_type": "markdown",
      "metadata": {
        "id": "CpVoucJ7fccz"
      },
      "source": [
        "We also show the 'extent' data:"
      ]
    },
    {
      "cell_type": "code",
      "metadata": {
        "id": "tV352-xUfcc0",
        "outputId": "d0ff88b9-b517-42dc-c0a2-79f21c8dafba"
      },
      "source": [
        "sie = df['extent']\n",
        "sie"
      ],
      "execution_count": null,
      "outputs": [
        {
          "data": {
            "text/plain": [
              "0      15.54\n",
              "1      14.96\n",
              "2      15.03\n",
              "3      15.26\n",
              "4      15.10\n",
              "       ...  \n",
              "419    12.51\n",
              "420    12.02\n",
              "421    12.40\n",
              "422    12.20\n",
              "423    12.38\n",
              "Name: extent, Length: 424, dtype: float64"
            ]
          },
          "execution_count": 28,
          "metadata": {},
          "output_type": "execute_result"
        }
      ]
    },
    {
      "cell_type": "markdown",
      "metadata": {
        "id": "TL1llVSsfcc0"
      },
      "source": [
        "'Extent' values should be greater or equal to zero, so we can see two outliers if we represent that variable:"
      ]
    },
    {
      "cell_type": "code",
      "metadata": {
        "id": "D3CA784Nfcc0",
        "outputId": "47d05496-bf06-46ad-e8e7-902b485971a6"
      },
      "source": [
        "plt.plot(range(0,424), sie, 'b+')\n",
        "plt.show()"
      ],
      "execution_count": null,
      "outputs": [
        {
          "data": {
            "image/png": "[encoded data removed]",
            "text/plain": [
              "<Figure size 432x288 with 1 Axes>"
            ]
          },
          "metadata": {},
          "output_type": "display_data"
        }
      ]
    },
    {
      "cell_type": "code",
      "metadata": {
        "id": "vdgiH-Hdfcc1",
        "outputId": "fe4edbca-1809-4f13-d67b-f4d546e1274e"
      },
      "source": [
        "# Visualizamos los datos con 'extent' menor o igual a cero\n",
        "df[df['extent']<=0]"
      ],
      "execution_count": null,
      "outputs": [
        {
          "data": {
            "text/html": [
              "<div>\n",
              "<style scoped>\n",
              "    .dataframe tbody tr th:only-of-type {\n",
              "        vertical-align: middle;\n",
              "    }\n",
              "\n",
              "    .dataframe tbody tr th {\n",
              "        vertical-align: top;\n",
              "    }\n",
              "\n",
              "    .dataframe thead th {\n",
              "        text-align: right;\n",
              "    }\n",
              "</style>\n",
              "<table border=\"1\" class=\"dataframe\">\n",
              "  <thead>\n",
              "    <tr style=\"text-align: right;\">\n",
              "      <th></th>\n",
              "      <th>year</th>\n",
              "      <th>mo</th>\n",
              "      <th>data_type</th>\n",
              "      <th>region</th>\n",
              "      <th>extent</th>\n",
              "      <th>area</th>\n",
              "    </tr>\n",
              "  </thead>\n",
              "  <tbody>\n",
              "    <tr>\n",
              "      <th>9</th>\n",
              "      <td>1988</td>\n",
              "      <td>1</td>\n",
              "      <td>-9999</td>\n",
              "      <td>N</td>\n",
              "      <td>-9999.0</td>\n",
              "      <td>-9999.0</td>\n",
              "    </tr>\n",
              "    <tr>\n",
              "      <th>397</th>\n",
              "      <td>1987</td>\n",
              "      <td>12</td>\n",
              "      <td>-9999</td>\n",
              "      <td>N</td>\n",
              "      <td>-9999.0</td>\n",
              "      <td>-9999.0</td>\n",
              "    </tr>\n",
              "  </tbody>\n",
              "</table>\n",
              "</div>"
            ],
            "text/plain": [
              "     year  mo data_type region  extent    area\n",
              "9    1988   1     -9999      N -9999.0 -9999.0\n",
              "397  1987  12     -9999      N -9999.0 -9999.0"
            ]
          },
          "execution_count": 30,
          "metadata": {},
          "output_type": "execute_result"
        }
      ]
    },
    {
      "cell_type": "markdown",
      "metadata": {
        "id": "BjeOf22vfcc2"
      },
      "source": [
        "With the identified outliers (indexes 9 and 397), we can clean up the data:"
      ]
    },
    {
      "cell_type": "code",
      "metadata": {
        "id": "6rVdfo7Zfcc2",
        "outputId": "f3db6f41-41ef-47aa-8d23-ea60774c0b81"
      },
      "source": [
        "df = df.drop(df[df['extent']<=0].index)\n",
        "df"
      ],
      "execution_count": null,
      "outputs": [
        {
          "data": {
            "text/html": [
              "<div>\n",
              "<style scoped>\n",
              "    .dataframe tbody tr th:only-of-type {\n",
              "        vertical-align: middle;\n",
              "    }\n",
              "\n",
              "    .dataframe tbody tr th {\n",
              "        vertical-align: top;\n",
              "    }\n",
              "\n",
              "    .dataframe thead th {\n",
              "        text-align: right;\n",
              "    }\n",
              "</style>\n",
              "<table border=\"1\" class=\"dataframe\">\n",
              "  <thead>\n",
              "    <tr style=\"text-align: right;\">\n",
              "      <th></th>\n",
              "      <th>year</th>\n",
              "      <th>mo</th>\n",
              "      <th>data_type</th>\n",
              "      <th>region</th>\n",
              "      <th>extent</th>\n",
              "      <th>area</th>\n",
              "    </tr>\n",
              "  </thead>\n",
              "  <tbody>\n",
              "    <tr>\n",
              "      <th>0</th>\n",
              "      <td>1979</td>\n",
              "      <td>1</td>\n",
              "      <td>Goddard</td>\n",
              "      <td>N</td>\n",
              "      <td>15.54</td>\n",
              "      <td>12.33</td>\n",
              "    </tr>\n",
              "    <tr>\n",
              "      <th>1</th>\n",
              "      <td>1980</td>\n",
              "      <td>1</td>\n",
              "      <td>Goddard</td>\n",
              "      <td>N</td>\n",
              "      <td>14.96</td>\n",
              "      <td>11.85</td>\n",
              "    </tr>\n",
              "    <tr>\n",
              "      <th>2</th>\n",
              "      <td>1981</td>\n",
              "      <td>1</td>\n",
              "      <td>Goddard</td>\n",
              "      <td>N</td>\n",
              "      <td>15.03</td>\n",
              "      <td>11.82</td>\n",
              "    </tr>\n",
              "    <tr>\n",
              "      <th>3</th>\n",
              "      <td>1982</td>\n",
              "      <td>1</td>\n",
              "      <td>Goddard</td>\n",
              "      <td>N</td>\n",
              "      <td>15.26</td>\n",
              "      <td>12.11</td>\n",
              "    </tr>\n",
              "    <tr>\n",
              "      <th>4</th>\n",
              "      <td>1983</td>\n",
              "      <td>1</td>\n",
              "      <td>Goddard</td>\n",
              "      <td>N</td>\n",
              "      <td>15.10</td>\n",
              "      <td>11.92</td>\n",
              "    </tr>\n",
              "    <tr>\n",
              "      <th>...</th>\n",
              "      <td>...</td>\n",
              "      <td>...</td>\n",
              "      <td>...</td>\n",
              "      <td>...</td>\n",
              "      <td>...</td>\n",
              "      <td>...</td>\n",
              "    </tr>\n",
              "    <tr>\n",
              "      <th>419</th>\n",
              "      <td>2009</td>\n",
              "      <td>12</td>\n",
              "      <td>Goddard</td>\n",
              "      <td>N</td>\n",
              "      <td>12.51</td>\n",
              "      <td>10.25</td>\n",
              "    </tr>\n",
              "    <tr>\n",
              "      <th>420</th>\n",
              "      <td>2010</td>\n",
              "      <td>12</td>\n",
              "      <td>Goddard</td>\n",
              "      <td>N</td>\n",
              "      <td>12.02</td>\n",
              "      <td>10.08</td>\n",
              "    </tr>\n",
              "    <tr>\n",
              "      <th>421</th>\n",
              "      <td>2011</td>\n",
              "      <td>12</td>\n",
              "      <td>Goddard</td>\n",
              "      <td>N</td>\n",
              "      <td>12.40</td>\n",
              "      <td>10.28</td>\n",
              "    </tr>\n",
              "    <tr>\n",
              "      <th>422</th>\n",
              "      <td>2012</td>\n",
              "      <td>12</td>\n",
              "      <td>Goddard</td>\n",
              "      <td>N</td>\n",
              "      <td>12.20</td>\n",
              "      <td>10.11</td>\n",
              "    </tr>\n",
              "    <tr>\n",
              "      <th>423</th>\n",
              "      <td>2013</td>\n",
              "      <td>12</td>\n",
              "      <td>NRTSI-G</td>\n",
              "      <td>N</td>\n",
              "      <td>12.38</td>\n",
              "      <td>10.48</td>\n",
              "    </tr>\n",
              "  </tbody>\n",
              "</table>\n",
              "<p>422 rows × 6 columns</p>\n",
              "</div>"
            ],
            "text/plain": [
              "     year  mo data_type region  extent   area\n",
              "0    1979   1   Goddard      N   15.54  12.33\n",
              "1    1980   1   Goddard      N   14.96  11.85\n",
              "2    1981   1   Goddard      N   15.03  11.82\n",
              "3    1982   1   Goddard      N   15.26  12.11\n",
              "4    1983   1   Goddard      N   15.10  11.92\n",
              "..    ...  ..       ...    ...     ...    ...\n",
              "419  2009  12   Goddard      N   12.51  10.25\n",
              "420  2010  12   Goddard      N   12.02  10.08\n",
              "421  2011  12   Goddard      N   12.40  10.28\n",
              "422  2012  12   Goddard      N   12.20  10.11\n",
              "423  2013  12   NRTSI-G      N   12.38  10.48\n",
              "\n",
              "[422 rows x 6 columns]"
            ]
          },
          "execution_count": 31,
          "metadata": {},
          "output_type": "execute_result"
        }
      ]
    },
    {
      "cell_type": "code",
      "metadata": {
        "id": "QGwmLpirfcc2",
        "outputId": "ed22bab5-74ee-49dc-ddc8-b840f9a531c5"
      },
      "source": [
        "np.sum(df['area']<=0)"
      ],
      "execution_count": null,
      "outputs": [
        {
          "data": {
            "text/plain": [
              "0"
            ]
          },
          "execution_count": 32,
          "metadata": {},
          "output_type": "execute_result"
        }
      ]
    },
    {
      "cell_type": "markdown",
      "metadata": {
        "id": "PHaZrrmlfcc3"
      },
      "source": [
        "### 2. Normalize the SIE data and visualize its temporal trend.\n",
        "\n",
        "Visualize there is a monthly dependence of SIE, explore the linear relationship using ``lmplot``.\n",
        "Compute the mean and variance of SIE for each month."
      ]
    },
    {
      "cell_type": "code",
      "metadata": {
        "id": "y6J6vl8Efcc3",
        "outputId": "37769923-1776-4f4d-99fa-4411992a515e"
      },
      "source": [
        "# We explore the dependence and linear relationship using lmplot\n",
        "import seaborn as sns; sns.set_theme(color_codes=True)\n",
        "g = sns.lmplot(x='mo', y='extent', data=df)"
      ],
      "execution_count": null,
      "outputs": [
        {
          "data": {
            "image/png": "[encoded data removed]",
            "text/plain": [
              "<Figure size 360x360 with 1 Axes>"
            ]
          },
          "metadata": {},
          "output_type": "display_data"
        }
      ]
    },
    {
      "cell_type": "code",
      "metadata": {
        "id": "ceGVOsuHfcc4",
        "outputId": "e9f157be-00c2-406c-f9e5-4d5fe459ca38"
      },
      "source": [
        "# Mean of SIE for each month\n",
        "df_mean = df.groupby('mo').mean()\n",
        "SIE_mean = df_mean['extent']\n",
        "SIE_mean"
      ],
      "execution_count": null,
      "outputs": [
        {
          "data": {
            "text/plain": [
              "mo\n",
              "1     14.479429\n",
              "2     15.298889\n",
              "3     15.491714\n",
              "4     14.766000\n",
              "5     13.396000\n",
              "6     11.860000\n",
              "7      9.601143\n",
              "8      7.122286\n",
              "9      6.404857\n",
              "10     8.809143\n",
              "11    10.964722\n",
              "12    13.059429\n",
              "Name: extent, dtype: float64"
            ]
          },
          "execution_count": 34,
          "metadata": {},
          "output_type": "execute_result"
        }
      ]
    },
    {
      "cell_type": "code",
      "metadata": {
        "scrolled": true,
        "id": "afb_Q0dEfcc4",
        "outputId": "a1384234-cb30-404d-f252-ccce077855d7"
      },
      "source": [
        "# Variance of SIE for each month\n",
        "df_var = df.groupby('mo').var()\n",
        "SIE_var = df_var['extent']\n",
        "SIE_var"
      ],
      "execution_count": null,
      "outputs": [
        {
          "data": {
            "text/plain": [
              "mo\n",
              "1     0.304906\n",
              "2     0.295804\n",
              "3     0.237209\n",
              "4     0.215378\n",
              "5     0.189901\n",
              "6     0.247918\n",
              "7     0.679175\n",
              "8     0.824577\n",
              "9     1.143902\n",
              "10    0.630361\n",
              "11    0.412511\n",
              "12    0.284870\n",
              "Name: extent, dtype: float64"
            ]
          },
          "execution_count": 35,
          "metadata": {},
          "output_type": "execute_result"
        }
      ]
    },
    {
      "cell_type": "markdown",
      "metadata": {
        "id": "CEGXvz8nfcc4"
      },
      "source": [
        "Normalize the SIE data: subtract the monthly mean and then convert to percent difference by dividing by the monthly mean and then multiplying by 100. Use the normalized SIE for the rest of the exercise."
      ]
    },
    {
      "cell_type": "code",
      "metadata": {
        "id": "8tHi2ngKfcc4",
        "outputId": "5e370730-5023-490e-8481-9100befabc43"
      },
      "source": [
        "for i in range(1,13):\n",
        "    df['extent'][df.mo==i] = ((df['extent'][df.mo==i] - SIE_mean[i])/SIE_mean[i])*100\n",
        "      \n",
        "df"
      ],
      "execution_count": null,
      "outputs": [
        {
          "name": "stderr",
          "output_type": "stream",
          "text": [
            "/var/folders/_w/mpjdphmd4653l152t3ng6kw00000gn/T/ipykernel_30576/1807454728.py:2: SettingWithCopyWarning: \n",
            "A value is trying to be set on a copy of a slice from a DataFrame\n",
            "\n",
            "See the caveats in the documentation: https://pandas.pydata.org/pandas-docs/stable/user_guide/indexing.html#returning-a-view-versus-a-copy\n",
            "  df['extent'][df.mo==i] = ((df['extent'][df.mo==i] - SIE_mean[i])/SIE_mean[i])*100\n"
          ]
        },
        {
          "data": {
            "text/html": [
              "<div>\n",
              "<style scoped>\n",
              "    .dataframe tbody tr th:only-of-type {\n",
              "        vertical-align: middle;\n",
              "    }\n",
              "\n",
              "    .dataframe tbody tr th {\n",
              "        vertical-align: top;\n",
              "    }\n",
              "\n",
              "    .dataframe thead th {\n",
              "        text-align: right;\n",
              "    }\n",
              "</style>\n",
              "<table border=\"1\" class=\"dataframe\">\n",
              "  <thead>\n",
              "    <tr style=\"text-align: right;\">\n",
              "      <th></th>\n",
              "      <th>year</th>\n",
              "      <th>mo</th>\n",
              "      <th>data_type</th>\n",
              "      <th>region</th>\n",
              "      <th>extent</th>\n",
              "      <th>area</th>\n",
              "    </tr>\n",
              "  </thead>\n",
              "  <tbody>\n",
              "    <tr>\n",
              "      <th>0</th>\n",
              "      <td>1979</td>\n",
              "      <td>1</td>\n",
              "      <td>Goddard</td>\n",
              "      <td>N</td>\n",
              "      <td>7.324677</td>\n",
              "      <td>12.33</td>\n",
              "    </tr>\n",
              "    <tr>\n",
              "      <th>1</th>\n",
              "      <td>1980</td>\n",
              "      <td>1</td>\n",
              "      <td>Goddard</td>\n",
              "      <td>N</td>\n",
              "      <td>3.318994</td>\n",
              "      <td>11.85</td>\n",
              "    </tr>\n",
              "    <tr>\n",
              "      <th>2</th>\n",
              "      <td>1981</td>\n",
              "      <td>1</td>\n",
              "      <td>Goddard</td>\n",
              "      <td>N</td>\n",
              "      <td>3.802439</td>\n",
              "      <td>11.82</td>\n",
              "    </tr>\n",
              "    <tr>\n",
              "      <th>3</th>\n",
              "      <td>1982</td>\n",
              "      <td>1</td>\n",
              "      <td>Goddard</td>\n",
              "      <td>N</td>\n",
              "      <td>5.390899</td>\n",
              "      <td>12.11</td>\n",
              "    </tr>\n",
              "    <tr>\n",
              "      <th>4</th>\n",
              "      <td>1983</td>\n",
              "      <td>1</td>\n",
              "      <td>Goddard</td>\n",
              "      <td>N</td>\n",
              "      <td>4.285883</td>\n",
              "      <td>11.92</td>\n",
              "    </tr>\n",
              "    <tr>\n",
              "      <th>...</th>\n",
              "      <td>...</td>\n",
              "      <td>...</td>\n",
              "      <td>...</td>\n",
              "      <td>...</td>\n",
              "      <td>...</td>\n",
              "      <td>...</td>\n",
              "    </tr>\n",
              "    <tr>\n",
              "      <th>419</th>\n",
              "      <td>2009</td>\n",
              "      <td>12</td>\n",
              "      <td>Goddard</td>\n",
              "      <td>N</td>\n",
              "      <td>-4.207141</td>\n",
              "      <td>10.25</td>\n",
              "    </tr>\n",
              "    <tr>\n",
              "      <th>420</th>\n",
              "      <td>2010</td>\n",
              "      <td>12</td>\n",
              "      <td>Goddard</td>\n",
              "      <td>N</td>\n",
              "      <td>-7.959219</td>\n",
              "      <td>10.08</td>\n",
              "    </tr>\n",
              "    <tr>\n",
              "      <th>421</th>\n",
              "      <td>2011</td>\n",
              "      <td>12</td>\n",
              "      <td>Goddard</td>\n",
              "      <td>N</td>\n",
              "      <td>-5.049444</td>\n",
              "      <td>10.28</td>\n",
              "    </tr>\n",
              "    <tr>\n",
              "      <th>422</th>\n",
              "      <td>2012</td>\n",
              "      <td>12</td>\n",
              "      <td>Goddard</td>\n",
              "      <td>N</td>\n",
              "      <td>-6.580905</td>\n",
              "      <td>10.11</td>\n",
              "    </tr>\n",
              "    <tr>\n",
              "      <th>423</th>\n",
              "      <td>2013</td>\n",
              "      <td>12</td>\n",
              "      <td>NRTSI-G</td>\n",
              "      <td>N</td>\n",
              "      <td>-5.202590</td>\n",
              "      <td>10.48</td>\n",
              "    </tr>\n",
              "  </tbody>\n",
              "</table>\n",
              "<p>422 rows × 6 columns</p>\n",
              "</div>"
            ],
            "text/plain": [
              "     year  mo data_type region    extent   area\n",
              "0    1979   1   Goddard      N  7.324677  12.33\n",
              "1    1980   1   Goddard      N  3.318994  11.85\n",
              "2    1981   1   Goddard      N  3.802439  11.82\n",
              "3    1982   1   Goddard      N  5.390899  12.11\n",
              "4    1983   1   Goddard      N  4.285883  11.92\n",
              "..    ...  ..       ...    ...       ...    ...\n",
              "419  2009  12   Goddard      N -4.207141  10.25\n",
              "420  2010  12   Goddard      N -7.959219  10.08\n",
              "421  2011  12   Goddard      N -5.049444  10.28\n",
              "422  2012  12   Goddard      N -6.580905  10.11\n",
              "423  2013  12   NRTSI-G      N -5.202590  10.48\n",
              "\n",
              "[422 rows x 6 columns]"
            ]
          },
          "execution_count": 36,
          "metadata": {},
          "output_type": "execute_result"
        }
      ]
    },
    {
      "cell_type": "markdown",
      "metadata": {
        "id": "PoucbH__fcc5"
      },
      "source": [
        "Visualize the trend of SIE per year considering:1) all months, 2) January, 3) August"
      ]
    },
    {
      "cell_type": "code",
      "metadata": {
        "id": "5uNLuuMTfcc5",
        "outputId": "0602a6d7-b8f4-40b9-ea30-d2f8acfb6f25"
      },
      "source": [
        "# All months\n",
        "import seaborn as sns; sns.set_theme(color_codes=True)\n",
        "g = sns.lmplot(x='year', y='extent', data=df)"
      ],
      "execution_count": null,
      "outputs": [
        {
          "data": {
            "image/png": "[encoded data removed]",
            "text/plain": [
              "<Figure size 360x360 with 1 Axes>"
            ]
          },
          "metadata": {},
          "output_type": "display_data"
        }
      ]
    },
    {
      "cell_type": "code",
      "metadata": {
        "id": "hqOc1jzKfcc5",
        "outputId": "fa72a162-1955-4916-cc75-bec8f4f87886"
      },
      "source": [
        "# January\n",
        "import seaborn as sns; sns.set_theme(color_codes=True)\n",
        "g = sns.lmplot(x='year', y='extent', data=df[df.mo==1])"
      ],
      "execution_count": null,
      "outputs": [
        {
          "data": {
            "image/png": "[encoded data removed]",
            "text/plain": [
              "<Figure size 360x360 with 1 Axes>"
            ]
          },
          "metadata": {},
          "output_type": "display_data"
        }
      ]
    },
    {
      "cell_type": "code",
      "metadata": {
        "id": "ES3j2b8Lfcc6",
        "outputId": "453972e7-93b5-4c85-f67e-ebe2c0fdcc65"
      },
      "source": [
        "# August\n",
        "import seaborn as sns; sns.set_theme(color_codes=True)\n",
        "g = sns.lmplot(x='year', y='extent', data=df[df.mo==8])"
      ],
      "execution_count": null,
      "outputs": [
        {
          "data": {
            "image/png": "[encoded data removed]",
            "text/plain": [
              "<Figure size 360x360 with 1 Axes>"
            ]
          },
          "metadata": {},
          "output_type": "display_data"
        }
      ]
    },
    {
      "cell_type": "markdown",
      "metadata": {
        "id": "DEJ4ki2-fcc6"
      },
      "source": [
        "Calculate the Pearson correlation coefficient and the p-value for testing non-correlation of the SIE temporal trend (consider all months). Is it significant?"
      ]
    },
    {
      "cell_type": "code",
      "metadata": {
        "id": "E0z91Zc4fcc6",
        "outputId": "cc6cca0b-ee6d-46e6-994e-39ab6b38b4a4"
      },
      "source": [
        "import scipy\n",
        "Pcorr, pvalue = scipy.stats.pearsonr(df['year'], df['extent'])\n",
        "print(f\"El coeficiente de correlación de Pearson resulta ser de {Pcorr}, con un p-value de {pvalue}, y con ese p-value podemos considerarlo como significativo\")"
      ],
      "execution_count": null,
      "outputs": [
        {
          "name": "stdout",
          "output_type": "stream",
          "text": [
            "El coeficiente de correlación de Pearson resulta ser de -0.7157818838300495, con un p-value de 1.730642447159393e-67, y con ese p-value podemos considerarlo como significativo\n"
          ]
        }
      ]
    },
    {
      "cell_type": "markdown",
      "metadata": {
        "id": "LkNWcwplfcc6"
      },
      "source": [
        "### 3. Compute the trend as a simple linear regression (OLS) and quantitatively evaluate it.\n",
        "\n",
        "Provide the estimated parameters for the linear regression. \n",
        "Evaluate the quality of fit quantitatively and graphically."
      ]
    },
    {
      "cell_type": "code",
      "metadata": {
        "id": "qvg8QJjefcc7"
      },
      "source": [
        "df_m = df.groupby('year').mean()\n",
        "SIE_my = df_m['extent']"
      ],
      "execution_count": null,
      "outputs": []
    },
    {
      "cell_type": "code",
      "metadata": {
        "id": "roaTx1v0fcc7",
        "outputId": "b47f3fb9-48ad-4c5e-f1e4-609e279a7f92"
      },
      "source": [
        "#your solution here\n",
        "from sklearn.linear_model import LinearRegression\n",
        "X = np.array(SIE_my.index).reshape((-1, 1))\n",
        "Y = np.array(SIE_my)\n",
        "model = LinearRegression()\n",
        "model.fit(X, Y)\n",
        "r_sq = model.score(X,Y)\n",
        "r_sq"
      ],
      "execution_count": null,
      "outputs": [
        {
          "data": {
            "text/plain": [
              "0.8537416786079789"
            ]
          },
          "execution_count": 42,
          "metadata": {},
          "output_type": "execute_result"
        }
      ]
    },
    {
      "cell_type": "code",
      "metadata": {
        "id": "Wzv2oAYjfcc7",
        "outputId": "b0a8075d-7d5b-4ac6-bf60-befa9bf4061b"
      },
      "source": [
        "b0 = model.intercept_\n",
        "b0"
      ],
      "execution_count": null,
      "outputs": [
        {
          "data": {
            "text/plain": [
              "1033.7684434308728"
            ]
          },
          "execution_count": 43,
          "metadata": {},
          "output_type": "execute_result"
        }
      ]
    },
    {
      "cell_type": "code",
      "metadata": {
        "id": "EJgrN5pKfcc7",
        "outputId": "9c4d8e74-5674-4071-fc18-e5e5c08bf86a"
      },
      "source": [
        "b1 = model.coef_\n",
        "b1"
      ],
      "execution_count": null,
      "outputs": [
        {
          "data": {
            "text/plain": [
              "array([-0.51786798])"
            ]
          },
          "execution_count": 44,
          "metadata": {},
          "output_type": "execute_result"
        }
      ]
    },
    {
      "cell_type": "code",
      "metadata": {
        "id": "6jmvMqwKfcc7",
        "outputId": "ea159f2b-41bb-4a05-8baa-1ff38fa790d9"
      },
      "source": [
        "import matplotlib.pyplot as plt\n",
        "\n",
        "y = b1* X + b0\n",
        "\n",
        "#plt.scatter(X, y)\n",
        "plt.plot(X,y)\n",
        "plt.show()"
      ],
      "execution_count": null,
      "outputs": [
        {
          "data": {
            "image/png": "[encoded data removed]",
            "text/plain": [
              "<Figure size 432x288 with 1 Axes>"
            ]
          },
          "metadata": {},
          "output_type": "display_data"
        }
      ]
    },
    {
      "cell_type": "markdown",
      "metadata": {
        "id": "ZrBbDWbmfcc8"
      },
      "source": [
        "### 4. Estimate the sea ice extent for January 2025\n",
        "\n",
        " Is there a negative trend in the evolution of sea ice extent over recent years? "
      ]
    },
    {
      "cell_type": "code",
      "metadata": {
        "id": "24VquldBfcc8",
        "outputId": "f8c26ae3-7c95-440a-830d-f58b7ec97775"
      },
      "source": [
        "prediction = np.arange(2015,2026,1).reshape(-1,1)\n",
        "prediction"
      ],
      "execution_count": null,
      "outputs": [
        {
          "data": {
            "text/plain": [
              "array([[2015],\n",
              "       [2016],\n",
              "       [2017],\n",
              "       [2018],\n",
              "       [2019],\n",
              "       [2020],\n",
              "       [2021],\n",
              "       [2022],\n",
              "       [2023],\n",
              "       [2024],\n",
              "       [2025]])"
            ]
          },
          "execution_count": 46,
          "metadata": {},
          "output_type": "execute_result"
        }
      ]
    },
    {
      "cell_type": "code",
      "metadata": {
        "id": "fPCeZ9jFfcc8",
        "outputId": "71132def-da1e-41e8-eafa-06f16203fd04"
      },
      "source": [
        "model.predict(prediction)"
      ],
      "execution_count": null,
      "outputs": [
        {
          "data": {
            "text/plain": [
              "array([ -9.73554632, -10.2534143 , -10.77128229, -11.28915027,\n",
              "       -11.80701826, -12.32488624, -12.84275423, -13.36062221,\n",
              "       -13.8784902 , -14.39635818, -14.91422617])"
            ]
          },
          "execution_count": 47,
          "metadata": {},
          "output_type": "execute_result"
        }
      ]
    },
    {
      "cell_type": "markdown",
      "metadata": {
        "id": "pEzlBsqQfcc8"
      },
      "source": [
        "In 2025 the mean normalized SIE would be -14.91422617"
      ]
    },
    {
      "cell_type": "code",
      "metadata": {
        "id": "TjjCZ-wWfcc8"
      },
      "source": [
        ""
      ],
      "execution_count": null,
      "outputs": []
    }
  ]
}